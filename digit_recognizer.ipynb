{
 "cells": [
  {
   "cell_type": "markdown",
   "id": "688bc1a1",
   "metadata": {},
   "source": [
    "### Imports"
   ]
  },
  {
   "cell_type": "code",
   "execution_count": 1,
   "id": "3806f75e",
   "metadata": {},
   "outputs": [
    {
     "name": "stdout",
     "output_type": "stream",
     "text": [
      "2.8.0\n"
     ]
    }
   ],
   "source": [
    "import tensorflow as tf\n",
    "import numpy as np\n",
    "import matplotlib.pyplot as plt\n",
    "from numpy import argmax\n",
    "from keras.preprocessing.image import img_to_array\n",
    "from keras.models import load_model\n",
    "from PIL import Image, ImageOps\n",
    "from sklearn.metrics import classification_report, confusion_matrix\n",
    "import itertools\n",
    "\n",
    "print(tf.__version__)\n"
   ]
  },
  {
   "cell_type": "markdown",
   "id": "0eac6cc4",
   "metadata": {},
   "source": [
    "#### Load dataset, improve training datas with inverted color, normalize the values"
   ]
  },
  {
   "cell_type": "code",
   "execution_count": 2,
   "id": "43c85f01",
   "metadata": {},
   "outputs": [],
   "source": [
    "mnist = tf.keras.datasets.mnist\n",
    "(x_train_raw, y_train), (x_test_raw, y_test) = mnist.load_data()\n",
    "\n",
    "# inverted color\n",
    "inverted_color_x_train = 255 - x_train_raw\n",
    "inverted_color_x_test = 255 - x_test_raw\n",
    "\n",
    "x_train = tf.keras.utils.normalize(x_train_raw, axis=1)\n",
    "x_test = tf.keras.utils.normalize(x_test_raw, axis=1)\n",
    "\n",
    "inverted_color_x_train = tf.keras.utils.normalize(inverted_color_x_train, axis=1)\n",
    "inverted_color_x_test = tf.keras.utils.normalize(inverted_color_x_test, axis=1)\n",
    "\n",
    "# join the normal and inverted\n",
    "x_train = np.append(x_train, inverted_color_x_train, 0)\n",
    "x_test = np.append(x_test, inverted_color_x_test, 0)\n",
    "y_train = np.append(y_train, y_train, 0)\n",
    "y_test = np.append(y_test, y_test, 0)"
   ]
  },
  {
   "cell_type": "markdown",
   "id": "7dd0f8d5",
   "metadata": {},
   "source": [
    "#### Define model, compile and training"
   ]
  },
  {
   "cell_type": "code",
   "execution_count": 15,
   "id": "7797ffd4",
   "metadata": {},
   "outputs": [
    {
     "name": "stdout",
     "output_type": "stream",
     "text": [
      "Epoch 1/8\n",
      "3750/3750 [==============================] - 50s 13ms/step - loss: 0.1640 - accuracy: 0.9499 - val_loss: 0.0508 - val_accuracy: 0.9846\n",
      "Epoch 2/8\n",
      "3750/3750 [==============================] - 52s 14ms/step - loss: 0.0554 - accuracy: 0.9827 - val_loss: 0.0334 - val_accuracy: 0.9898\n",
      "Epoch 3/8\n",
      "3750/3750 [==============================] - 51s 14ms/step - loss: 0.0397 - accuracy: 0.9875 - val_loss: 0.0347 - val_accuracy: 0.9886\n",
      "Epoch 4/8\n",
      "3750/3750 [==============================] - 53s 14ms/step - loss: 0.0306 - accuracy: 0.9903 - val_loss: 0.0323 - val_accuracy: 0.9902\n",
      "Epoch 5/8\n",
      "3750/3750 [==============================] - 53s 14ms/step - loss: 0.0240 - accuracy: 0.9920 - val_loss: 0.0303 - val_accuracy: 0.9904\n",
      "Epoch 6/8\n",
      "3750/3750 [==============================] - 54s 14ms/step - loss: 0.0202 - accuracy: 0.9933 - val_loss: 0.0314 - val_accuracy: 0.9908\n",
      "Epoch 7/8\n",
      "3750/3750 [==============================] - 54s 14ms/step - loss: 0.0175 - accuracy: 0.9943 - val_loss: 0.0378 - val_accuracy: 0.9894\n",
      "Epoch 8/8\n",
      "3750/3750 [==============================] - 54s 14ms/step - loss: 0.0152 - accuracy: 0.9949 - val_loss: 0.0368 - val_accuracy: 0.9901\n"
     ]
    }
   ],
   "source": [
    "def create_model():\n",
    "    model = tf.keras.models.Sequential()\n",
    "    # cnn\n",
    "    model.add(tf.keras.layers.Conv2D(filters=32, kernel_size=(3, 3), activation=tf.nn.relu, input_shape=(28, 28, 1)))\n",
    "    model.add(tf.keras.layers.MaxPool2D((2, 2)))\n",
    "\n",
    "    model.add(tf.keras.layers.Conv2D(filters=64, kernel_size=(3, 3), activation=tf.nn.relu))\n",
    "    model.add(tf.keras.layers.MaxPool2D((2, 2)))\n",
    "\n",
    "    # dense / classification\n",
    "    model.add(tf.keras.layers.Flatten())\n",
    "    model.add(tf.keras.layers.Dense(128, activation=tf.nn.relu))\n",
    "    model.add(tf.keras.layers.Dropout(0.2))\n",
    "    # 10 possible output (0, 1, 2...9)\n",
    "    model.add(tf.keras.layers.Dense(10, activation=tf.nn.softmax))\n",
    "\n",
    "    model.compile(optimizer='adam',\n",
    "                 loss='sparse_categorical_crossentropy',\n",
    "                 metrics=['accuracy'])\n",
    "    return model\n",
    "\n",
    "model = create_model()\n",
    "history = model.fit(x_train, y_train, epochs=8, validation_data=(x_test, y_test))"
   ]
  },
  {
   "cell_type": "markdown",
   "id": "81719351",
   "metadata": {},
   "source": [
    "#### Show the model's learning curve"
   ]
  },
  {
   "cell_type": "code",
   "execution_count": 16,
   "id": "161becde",
   "metadata": {},
   "outputs": [
    {
     "data": {
      "image/png": "[encoded data removed]",
      "text/plain": [
       "<Figure size 432x288 with 1 Axes>"
      ]
     },
     "metadata": {
      "needs_background": "light"
     },
     "output_type": "display_data"
    }
   ],
   "source": [
    "plt.plot(history.history['accuracy'])\n",
    "plt.plot(history.history['val_accuracy'])\n",
    "plt.title('model accuracy')\n",
    "plt.ylabel('accuracy')\n",
    "plt.xlabel('epoch')\n",
    "plt.legend(['train', 'test'], loc='upper left')\n",
    "plt.show()"
   ]
  },
  {
   "cell_type": "markdown",
   "id": "4fbf68db",
   "metadata": {},
   "source": [
    "#### Show the model's loss"
   ]
  },
  {
   "cell_type": "code",
   "execution_count": 17,
   "id": "b9ae0fbf",
   "metadata": {},
   "outputs": [
    {
     "data": {
      "image/png": "[encoded data removed]",
      "text/plain": [
       "<Figure size 432x288 with 1 Axes>"
      ]
     },
     "metadata": {
      "needs_background": "light"
     },
     "output_type": "display_data"
    }
   ],
   "source": [
    "plt.plot(history.history['loss'])\n",
    "plt.plot(history.history['val_loss'])\n",
    "plt.title('model loss')\n",
    "plt.ylabel('loss')\n",
    "plt.xlabel('epoch')\n",
    "plt.legend(['train', 'test'], loc='upper left')\n",
    "plt.show()"
   ]
  },
  {
   "cell_type": "code",
   "execution_count": 20,
   "id": "876843ee",
   "metadata": {},
   "outputs": [
    {
     "data": {
      "image/png": "[encoded data removed]",
      "text/plain": [
       "<Figure size 720x720 with 2 Axes>"
      ]
     },
     "metadata": {
      "needs_background": "light"
     },
     "output_type": "display_data"
    }
   ],
   "source": [
    "def plot_confusion_matrix(cm, classes, normalize=True, title='Confusion matrix', cmap=plt.cm.Blues):\n",
    "    \"\"\"\n",
    "    This function prints and plots the confusion matrix.\n",
    "    Normalization can be applied by setting `normalize=True`.\n",
    "    \"\"\"\n",
    "    plt.figure(figsize=(10,10))\n",
    "    plt.imshow(cm, interpolation='nearest', cmap=cmap)\n",
    "    plt.title(title)\n",
    "    plt.colorbar()\n",
    "    tick_marks = np.arange(len(classes))\n",
    "    plt.xticks(tick_marks, classes, rotation=45)\n",
    "    plt.yticks(tick_marks, classes)\n",
    "    if normalize:\n",
    "        cm = cm.astype('float') / cm.sum(axis=1)[:, np.newaxis]\n",
    "        cm = np.around(cm, decimals=2)\n",
    "        cm[np.isnan(cm)] = 0.0\n",
    "    thresh = cm.max() / 2.\n",
    "    for i, j in itertools.product(range(cm.shape[0]), range(cm.shape[1])):\n",
    "        plt.text(j, i, cm[i, j],\n",
    "                 horizontalalignment=\"center\",\n",
    "                 color=\"white\" if cm[i, j] > thresh else \"black\")\n",
    "    plt.tight_layout()\n",
    "    plt.ylabel('True label')\n",
    "    plt.xlabel('Predicted label')\n",
    "\n",
    "\n",
    "x_val = x_test\n",
    "y_val = y_test\n",
    "# Classificando toda base de teste\n",
    "y_pred = model.predict(x_test)\n",
    "\n",
    "y_test_c = np.argmax(y_pred, axis=1)\n",
    "target_names = ['0', '1', '2', '3', '4', '5', '6', '7', '8', '9']\n",
    "\n",
    "#Confution Matrix\n",
    "cm = confusion_matrix(y_val, y_test_c)\n",
    "plot_confusion_matrix(cm, target_names, normalize=False, title='Confusion Matrix')"
   ]
  },
  {
   "cell_type": "code",
   "execution_count": 22,
   "id": "530d89c6",
   "metadata": {},
   "outputs": [
    {
     "name": "stdout",
     "output_type": "stream",
     "text": [
      "INFO:tensorflow:Assets written to: digit_model.model\\assets\n"
     ]
    }
   ],
   "source": [
    "# save model\n",
    "model.save('digit_model.model')"
   ]
  },
  {
   "cell_type": "code",
   "execution_count": 4,
   "id": "38341b74",
   "metadata": {},
   "outputs": [],
   "source": [
    "# load the model saved\n",
    "new_model = tf.keras.models.load_model('digit_model.model')\n",
    "model = new_model"
   ]
  },
  {
   "cell_type": "code",
   "execution_count": 9,
   "id": "85c8f59b",
   "metadata": {},
   "outputs": [],
   "source": [
    "predictions = new_model.predict([x_test])"
   ]
  },
  {
   "cell_type": "code",
   "execution_count": 10,
   "id": "9c727124",
   "metadata": {},
   "outputs": [
    {
     "name": "stdout",
     "output_type": "stream",
     "text": [
      "7\n"
     ]
    },
    {
     "data": {
      "image/png": "[encoded data removed]",
      "text/plain": [
       "<Figure size 432x288 with 1 Axes>"
      ]
     },
     "metadata": {
      "needs_background": "light"
     },
     "output_type": "display_data"
    }
   ],
   "source": [
    "print(np.argmax(predictions[0]))\n",
    "plt.imshow(x_test[0])\n",
    "plt.show()"
   ]
  },
  {
   "cell_type": "code",
   "execution_count": 21,
   "id": "5fce5a59",
   "metadata": {},
   "outputs": [],
   "source": [
    "# load and prepare the image\n",
    "def load_image(filename):\n",
    "    # load the image\n",
    "    img = ImageOps.grayscale(Image.open(filename))\n",
    "\n",
    "    # reshape into a single sample with 1 channel\n",
    "    #img = np.resize(img, (28,28,1))\n",
    "    img = img.resize((28, 28))\n",
    "\n",
    "    # convert to array\n",
    "    img = img_to_array(img)\n",
    "    img = img.reshape(1, 28, 28)\n",
    "\n",
    "    # prepare pixel data\n",
    "    img = img.astype('float32')\n",
    "    img = img / 255.0\n",
    "    return img"
   ]
  },
  {
   "cell_type": "code",
   "execution_count": 22,
   "id": "40b60e0e",
   "metadata": {},
   "outputs": [
    {
     "name": "stdout",
     "output_type": "stream",
     "text": [
      "Número 0 - Chance 0.00000%\n",
      "Número 1 - Chance 0.00000%\n",
      "Número 2 - Chance 100.00000%\n",
      "Número 3 - Chance 0.00000%\n",
      "Número 4 - Chance 0.00000%\n",
      "Número 5 - Chance 0.00000%\n",
      "Número 6 - Chance 0.00000%\n",
      "Número 7 - Chance 0.00000%\n",
      "Número 8 - Chance 0.00000%\n",
      "Número 9 - Chance 0.00000%\n",
      "O número da imagem é: 2\n"
     ]
    },
    {
     "data": {
      "image/png": "[encoded data removed]",
      "text/plain": [
       "<Figure size 432x288 with 1 Axes>"
      ]
     },
     "metadata": {
      "needs_background": "light"
     },
     "output_type": "display_data"
    }
   ],
   "source": [
    "img = load_image('tests/2/img2.png')\n",
    "\n",
    "predict = model.predict(img)\n",
    "for ind, res in enumerate(predict[0]):\n",
    "    print(f'Número {ind} - Chance {res * 100:.5f}%')\n",
    "print('O número da imagem é:',argmax(predict))\n",
    "\n",
    "plt.imshow(img[0])\n",
    "plt.show()"
   ]
  },
  {
   "cell_type": "code",
   "execution_count": 23,
   "id": "e5d8d07c",
   "metadata": {},
   "outputs": [
    {
     "name": "stdout",
     "output_type": "stream",
     "text": [
      "Número 0 - Chance 0.00000%\n",
      "Número 1 - Chance 0.00000%\n",
      "Número 2 - Chance 100.00000%\n",
      "Número 3 - Chance 0.00000%\n",
      "Número 4 - Chance 0.00000%\n",
      "Número 5 - Chance 0.00000%\n",
      "Número 6 - Chance 0.00000%\n",
      "Número 7 - Chance 0.00000%\n",
      "Número 8 - Chance 0.00000%\n",
      "Número 9 - Chance 0.00000%\n",
      "O número da imagem é: 2\n"
     ]
    },
    {
     "data": {
      "image/png": "[encoded data removed]",
      "text/plain": [
       "<Figure size 432x288 with 1 Axes>"
      ]
     },
     "metadata": {
      "needs_background": "light"
     },
     "output_type": "display_data"
    }
   ],
   "source": [
    "img = load_image('tests/2/img2_inv.png')\n",
    "\n",
    "predict = model.predict(img)\n",
    "for ind, res in enumerate(predict[0]):\n",
    "    print(f'Número {ind} - Chance {res * 100:.5f}%')\n",
    "print('O número da imagem é:',argmax(predict))\n",
    "\n",
    "plt.imshow(img[0])\n",
    "plt.show()"
   ]
  },
  {
   "cell_type": "code",
   "execution_count": 24,
   "id": "a2c7a05a",
   "metadata": {},
   "outputs": [
    {
     "name": "stdout",
     "output_type": "stream",
     "text": [
      "Número 0 - Chance 0.00000%\n",
      "Número 1 - Chance 0.00000%\n",
      "Número 2 - Chance 87.53479%\n",
      "Número 3 - Chance 12.45736%\n",
      "Número 4 - Chance 0.00000%\n",
      "Número 5 - Chance 0.00000%\n",
      "Número 6 - Chance 0.00000%\n",
      "Número 7 - Chance 0.00785%\n",
      "Número 8 - Chance 0.00000%\n",
      "Número 9 - Chance 0.00000%\n",
      "O número da imagem é: 2\n"
     ]
    },
    {
     "data": {
      "image/png": "[encoded data removed]",
      "text/plain": [
       "<Figure size 432x288 with 1 Axes>"
      ]
     },
     "metadata": {
      "needs_background": "light"
     },
     "output_type": "display_data"
    }
   ],
   "source": [
    "img = load_image('tests/0/0_0.png')\n",
    "\n",
    "predict = model.predict(img)\n",
    "for ind, res in enumerate(predict[0]):\n",
    "    print(f'Número {ind} - Chance {res * 100:.5f}%')\n",
    "print('O número da imagem é:',argmax(predict))\n",
    "\n",
    "plt.imshow(img[0])\n",
    "plt.show()"
   ]
  }
 ],
 "metadata": {
  "kernelspec": {
   "display_name": "Python 3 (ipykernel)",
   "language": "python",
   "name": "python3"
  },
  "language_info": {
   "codemirror_mode": {
    "name": "ipython",
    "version": 3
   },
   "file_extension": ".py",
   "mimetype": "text/x-python",
   "name": "python",
   "nbconvert_exporter": "python",
   "pygments_lexer": "ipython3",
   "version": "3.10.0"
  }
 },
 "nbformat": 4,
 "nbformat_minor": 5
}
