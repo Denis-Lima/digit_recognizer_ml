{
 "cells": [
  {
   "cell_type": "code",
   "execution_count": 1,
   "id": "3806f75e",
   "metadata": {},
   "outputs": [
    {
     "name": "stdout",
     "output_type": "stream",
     "text": [
      "2.8.0\n"
     ]
    }
   ],
   "source": [
    "import tensorflow as tf\n",
    "import numpy as np\n",
    "import matplotlib.pyplot as plt\n",
    "from numpy import argmax\n",
    "from keras.preprocessing.image import img_to_array\n",
    "from keras.models import load_model\n",
    "from PIL import Image, ImageOps\n",
    "\n",
    "print(tf.__version__)\n"
   ]
  },
  {
   "cell_type": "code",
   "execution_count": 2,
   "id": "43c85f01",
   "metadata": {},
   "outputs": [
    {
     "name": "stdout",
     "output_type": "stream",
     "text": [
      "(60000, 28, 28)\n",
      "(60000, 28, 28)\n",
      "Epoch 1/3\n",
      "1875/1875 [==============================] - 6s 3ms/step - loss: 0.2502 - accuracy: 0.9238\n",
      "Epoch 2/3\n",
      "1875/1875 [==============================] - 5s 3ms/step - loss: 0.1031 - accuracy: 0.9678\n",
      "Epoch 3/3\n",
      "1875/1875 [==============================] - 5s 2ms/step - loss: 0.0712 - accuracy: 0.9776\n"
     ]
    },
    {
     "data": {
      "text/plain": [
       "<keras.callbacks.History at 0x28df08f99c0>"
      ]
     },
     "execution_count": 2,
     "metadata": {},
     "output_type": "execute_result"
    }
   ],
   "source": [
    "mnist = tf.keras.datasets.mnist\n",
    "(x_train, y_train), (x_test, y_test) = mnist.load_data()\n",
    "print(x_train.shape)\n",
    "x_train = tf.keras.utils.normalize(x_train, axis=1)\n",
    "print(x_train.shape)\n",
    "x_test = tf.keras.utils.normalize(x_test, axis=1)\n",
    "\n",
    "model = tf.keras.models.Sequential()\n",
    "model.add(tf.keras.layers.Flatten())\n",
    "model.add(tf.keras.layers.Dense(128, activation=tf.nn.relu))\n",
    "model.add(tf.keras.layers.Dense(128, activation=tf.nn.relu))\n",
    "model.add(tf.keras.layers.Dense(128, activation=tf.nn.relu))\n",
    "model.add(tf.keras.layers.Dense(10, activation=tf.nn.softmax))\n",
    "\n",
    "model.compile(optimizer='adam',\n",
    "             loss='sparse_categorical_crossentropy',\n",
    "             metrics=['accuracy'])\n",
    "\n",
    "model.fit(x_train, y_train, epochs=3)"
   ]
  },
  {
   "cell_type": "code",
   "execution_count": 3,
   "id": "b9ae0fbf",
   "metadata": {},
   "outputs": [
    {
     "name": "stdout",
     "output_type": "stream",
     "text": [
      "313/313 [==============================] - 1s 2ms/step - loss: 0.1003 - accuracy: 0.9695\n",
      "0.10034933686256409 0.9695000052452087\n"
     ]
    }
   ],
   "source": [
    "val_loss, val_acc = model.evaluate(x_test, y_test)\n",
    "print(val_loss, val_acc)"
   ]
  },
  {
   "cell_type": "code",
   "execution_count": 4,
   "id": "530d89c6",
   "metadata": {},
   "outputs": [
    {
     "name": "stdout",
     "output_type": "stream",
     "text": [
      "INFO:tensorflow:Assets written to: digit_model.model\\assets\n"
     ]
    }
   ],
   "source": [
    "# save model\n",
    "model.save('digit_model.model')\n",
    "\n",
    "# load the model saved\n",
    "new_model = tf.keras.models.load_model('digit_model.model')"
   ]
  },
  {
   "cell_type": "code",
   "execution_count": 5,
   "id": "85c8f59b",
   "metadata": {},
   "outputs": [],
   "source": [
    "predictions = new_model.predict([x_test])"
   ]
  },
  {
   "cell_type": "code",
   "execution_count": 6,
   "id": "9c727124",
   "metadata": {},
   "outputs": [
    {
     "name": "stdout",
     "output_type": "stream",
     "text": [
      "7\n"
     ]
    },
    {
     "data": {
      "image/png": "[encoded data removed]",
      "text/plain": [
       "<Figure size 432x288 with 1 Axes>"
      ]
     },
     "metadata": {
      "needs_background": "light"
     },
     "output_type": "display_data"
    }
   ],
   "source": [
    "print(np.argmax(predictions[0]))\n",
    "plt.imshow(x_test[0])\n",
    "plt.show()"
   ]
  },
  {
   "cell_type": "code",
   "execution_count": 7,
   "id": "5fce5a59",
   "metadata": {},
   "outputs": [],
   "source": [
    "# load and prepare the image\n",
    "def load_image(filename):\n",
    "    # load the image\n",
    "    img = ImageOps.grayscale(Image.open(filename))\n",
    "\n",
    "    # reshape into a single sample with 1 channel\n",
    "    img = np.resize(img, (28,28,1))\n",
    "\n",
    "    # convert to array\n",
    "    img = img_to_array(img)\n",
    "    img = img.reshape(1, 28, 28)\n",
    "\n",
    "    # prepare pixel data\n",
    "    img = img.astype('float32')\n",
    "    img = img / 255.0\n",
    "    return img"
   ]
  },
  {
   "cell_type": "code",
   "execution_count": 8,
   "id": "40b60e0e",
   "metadata": {},
   "outputs": [
    {
     "name": "stdout",
     "output_type": "stream",
     "text": [
      "Número 0 - Chance 0.00000%\n",
      "Número 1 - Chance 0.00017%\n",
      "Número 2 - Chance 99.99590%\n",
      "Número 3 - Chance 0.00323%\n",
      "Número 4 - Chance 0.00001%\n",
      "Número 5 - Chance 0.00000%\n",
      "Número 6 - Chance 0.00000%\n",
      "Número 7 - Chance 0.00068%\n",
      "Número 8 - Chance 0.00000%\n",
      "Número 9 - Chance 0.00001%\n",
      "O número da imagem é: 2\n"
     ]
    },
    {
     "data": {
      "image/png": "[encoded data removed]",
      "text/plain": [
       "<Figure size 432x288 with 1 Axes>"
      ]
     },
     "metadata": {
      "needs_background": "light"
     },
     "output_type": "display_data"
    }
   ],
   "source": [
    "img = load_image('tests/img2.png')\n",
    "\n",
    "predict = model.predict(img)\n",
    "for ind, res in enumerate(predict[0]):\n",
    "    print(f'Número {ind} - Chance {res * 100:.5f}%')\n",
    "print('O número da imagem é:',argmax(predict))\n",
    "\n",
    "plt.imshow(img[0])\n",
    "plt.show()"
   ]
  }
 ],
 "metadata": {
  "kernelspec": {
   "display_name": "Python 3 (ipykernel)",
   "language": "python",
   "name": "python3"
  },
  "language_info": {
   "codemirror_mode": {
    "name": "ipython",
    "version": 3
   },
   "file_extension": ".py",
   "mimetype": "text/x-python",
   "name": "python",
   "nbconvert_exporter": "python",
   "pygments_lexer": "ipython3",
   "version": "3.10.0"
  }
 },
 "nbformat": 4,
 "nbformat_minor": 5
}
